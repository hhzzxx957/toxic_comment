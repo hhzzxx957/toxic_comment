{
 "cells": [
  {
   "cell_type": "code",
   "execution_count": 1,
   "metadata": {},
   "outputs": [
    {
     "name": "stdout",
     "output_type": "stream",
     "text": [
      "bidirectional-gru-with-convolution.csv\n",
      "bi-gru-cnn-poolings.csv\n",
      "bilstm_conv_preprocess.csv\n",
      "bilstm_preprocess.csv\n",
      "capsule-gru_preprocess.csv\n",
      "corr_blend.csv\n",
      "global-avg-pool_preprocess.csv\n",
      "hight_of_blending.csv\n",
      "lvl0_lgbm_clean_sub.csv\n",
      "oof-stacking-regime.csv\n",
      "pooled-gru-fasttext-6c07c9.csv\n",
      "pooled-gru-fasttext_preprocess.csv\n",
      "pooled-gru-glove-with-preprocessing.csv\n",
      "ridge_preprocess.csv\n",
      "superblend_1.csv\n",
      "tidy_xgb_glm.csv\n",
      "toxic-avenger.csv\n",
      "why-a-such-low-score-with-r-and-keras.csv\n",
      "wordbatch-fm-ftrl.csv\n",
      "\n"
     ]
    }
   ],
   "source": [
    "\"\"\"\n",
    "Simple ensembling\n",
    "1.by weight\n",
    "2. geomean\n",
    "\"\"\"\n",
    "\n",
    "import numpy as np # linear algebra\n",
    "import pandas as pd # data processing, CSV file I/O (e.g. pd.read_csv)\n",
    "import os\n",
    "from scipy.stats.mstats import gmean\n",
    "\n",
    "# Input data files are available in the \"../input/\" directory.\n",
    "from subprocess import check_output\n",
    "print(check_output([\"ls\", \"../input/blenditall\"]).decode(\"utf8\"))"
   ]
  },
  {
   "cell_type": "code",
   "execution_count": 2,
   "metadata": {},
   "outputs": [],
   "source": [
    "## collect all results from different models\n",
    "grucnn = pd.read_csv('../input/blenditall/bi-gru-cnn-poolings.csv')\n",
    "gruglo = pd.read_csv(\"../input/blenditall/pooled-gru-glove-with-preprocessing.csv\")\n",
    "ave = pd.read_csv(\"../input/blenditall/toxic-avenger.csv\")\n",
    "supbl= pd.read_csv('../input/blenditall/superblend_1.csv')\n",
    "best = pd.read_csv('../input/blenditall/hight_of_blending.csv')\n",
    "lgbm = pd.read_csv('../input/blenditall/lvl0_lgbm_clean_sub.csv')\n",
    "wordbtch = pd.read_csv('../input/blenditall/wordbatch-fm-ftrl.csv')\n",
    "tidy = pd.read_csv('../input/blenditall/tidy_xgb_glm.csv')\n",
    "fast = pd.read_csv('../input/blenditall/pooled-gru-fasttext-6c07c9.csv')\n",
    "bilst = pd.read_csv('../input/blenditall/bilstm_conv_preprocess.csv')\n",
    "oofs = pd.read_csv('../input/blenditall/oof-stacking-regime.csv')\n",
    "corrbl = pd.read_csv('../input/blenditall/corr_blend.csv')\n",
    "rkera = pd.read_csv('../input/blenditall/why-a-such-low-score-with-r-and-keras.csv')\n",
    "\n",
    "lstm_conv = pd.read_csv('../subs/bilstm_conv_preprocess.csv')\n",
    "lstm_bi = pd.read_csv('../subs/bilstm_preprocess.csv')\n",
    "gru_capsule = pd.read_csv('../subs/capsule-gru_preprocess.csv')\n",
    "gru_pool = pd.read_csv('../subs/global-avg-pool_preprocess.csv')\n",
    "gru_fasttext = pd.read_csv('../subs/pooled-gru-fasttext_preprocess.csv')\n",
    "ridge = pd.read_csv('../subs/ridge_preprocess.csv')\n",
    "\n",
    "b1 = best.copy()\n",
    "labels = [\"toxic\", \"severe_toxic\", \"obscene\", \"threat\", \"insult\", \"identity_hate\"]\n",
    "\n",
    "from sklearn.preprocessing import minmax_scale\n",
    "for label in labels:\n",
    "    gru_capsule[label] = minmax_scale(gru_capsule[label])\n",
    "    gru_pool[label] = minmax_scale(gru_pool[label])\n",
    "    lstm_bi[label] = minmax_scale(lstm_bi[label])\n",
    "    lstm_conv[label] = minmax_scale(lstm_conv[label])\n",
    "    gru_fasttext[label] = minmax_scale(gru_fasttext[label])\n",
    "    ridge[label] = minmax_scale(ridge[label])"
   ]
  },
  {
   "cell_type": "code",
   "execution_count": 3,
   "metadata": {},
   "outputs": [],
   "source": [
    "##weights\n",
    "\n",
    "for i in labels:\n",
    "    b1[i] = (2 * fast[i]  + 2 * gruglo[i] + grucnn[i] * 4 + ave[i] + supbl[i] * 2 \n",
    "             + best[i] * 4 +  wordbtch[i] * 2 + lgbm[i] * 2 + \n",
    "             tidy[i] + bilst[i] * 4 + oofs[i] * 5 + corrbl[i] * 4 #33\n",
    "             +1*gru_capsule[i]+2*gru_pool[i]+4*lstm_bi[i]+2*lstm_conv[i]+2*gru_fasttext[i]+ridge[i]) /  45\n",
    "    \n",
    "b1.to_csv('blend_it_all_v3.csv', index = False)"
   ]
  },
  {
   "cell_type": "code",
   "execution_count": 7,
   "metadata": {},
   "outputs": [
    {
     "name": "stderr",
     "output_type": "stream",
     "text": [
      "/usr/local/lib/python3.5/dist-packages/scipy/stats/stats.py:305: RuntimeWarning: divide by zero encountered in log\n",
      "  log_a = np.log(np.array(a, dtype=dtype))\n"
     ]
    }
   ],
   "source": [
    "###geomean\n",
    "preds= pd.DataFrame()\n",
    "\n",
    "for i in labels:\n",
    "    preds[label] = pd.concat([gru_capsule[i], \n",
    "                    gru_pool[i],\n",
    "                    lstm_bi[i], \n",
    "                    lstm_conv[i],\n",
    "                    gru_fasttext[i],\n",
    "                    ridge[i],\n",
    "                    fast[i],gruglo[i],grucnn[i], ave[i] ,supbl[i] , \n",
    "                    best[i], wordbtch[i],lgbm[i], \n",
    "                    tidy[i] ,bilst[i] , oofs[i],corrbl[i] ]\n",
    "                      )\n",
    "    \n",
    "    b1[label] = preds[label].groupby(level=0).apply(gmean)\n",
    "\n",
    "b1.to_csv('geoblenditall.csv', index=False)"
   ]
  },
  {
   "cell_type": "code",
   "execution_count": null,
   "metadata": {},
   "outputs": [],
   "source": []
  }
 ],
 "metadata": {
  "kernelspec": {
   "display_name": "Python 3",
   "language": "python",
   "name": "python3"
  },
  "language_info": {
   "codemirror_mode": {
    "name": "ipython",
    "version": 3
   },
   "file_extension": ".py",
   "mimetype": "text/x-python",
   "name": "python",
   "nbconvert_exporter": "python",
   "pygments_lexer": "ipython3",
   "version": "3.6.8"
  }
 },
 "nbformat": 4,
 "nbformat_minor": 2
}
